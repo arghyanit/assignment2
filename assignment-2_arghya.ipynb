{
 "cells": [
  {
   "cell_type": "markdown",
   "metadata": {},
   "source": [
    "# Task 1:"
   ]
  },
  {
   "cell_type": "markdown",
   "metadata": {},
   "source": [
    "1.1) Write a Python Program to implement your own myreduce() function which works exactly like Python's built-in function reduce()"
   ]
  },
  {
   "cell_type": "code",
   "execution_count": 55,
   "metadata": {},
   "outputs": [
    {
     "name": "stdout",
     "output_type": "stream",
     "text": [
      "10\n"
     ]
    }
   ],
   "source": [
    "def my_reduce(fun, arr):\n",
    "    a = arr[0]\n",
    "    for i in arr[1:]:\n",
    "        a = fun(a, i)\n",
    "    return a\n",
    "\n",
    "def sum_do(m, n):\n",
    "    return m + n\n",
    "\n",
    "l = [1, 2, 3, 4]\n",
    "\n",
    "ans = my_reduce(sum_do, l)\n",
    "print(ans)"
   ]
  },
  {
   "cell_type": "markdown",
   "metadata": {},
   "source": [
    "1.2) Write a Python program to implement your own myfilter() function which works exactly like Python's built-in function filter()"
   ]
  },
  {
   "cell_type": "code",
   "execution_count": 1,
   "metadata": {},
   "outputs": [
    {
     "data": {
      "text/plain": [
       "[2, 4, 6, 8]"
      ]
     },
     "execution_count": 1,
     "metadata": {},
     "output_type": "execute_result"
    }
   ],
   "source": [
    "def my_filter(fun, arr):\n",
    "    result = []\n",
    "    for i in arr:\n",
    "        if fun(i):\n",
    "            result.append(i)\n",
    "    return result\n",
    "\n",
    "lst =[1,2,3,4,5,6,7,8]\n",
    "\n",
    "def even_check(num):\n",
    "    if num%2 ==0:\n",
    "        return True\n",
    "\n",
    "#list(my_filter(even_check,lst))\n",
    "list(my_filter(lambda x: x%2 == 0,lst))\n"
   ]
  },
  {
   "cell_type": "code",
   "execution_count": null,
   "metadata": {},
   "outputs": [],
   "source": []
  },
  {
   "cell_type": "markdown",
   "metadata": {},
   "source": [
    "2) Implement List comprehensions to produce the following lists. Write List comprehensions to produce the following Lists\n",
    "['A', 'C', 'A', 'D', 'G', 'I', ’L’, ‘ D’]\n",
    "['x', 'xx', 'xxx', 'xxxx', 'y', 'yy', 'yyy', 'yyyy', 'z', 'zz', 'zzz', 'zzzz'] \n",
    "['x', 'y', 'z', 'xx', 'yy', 'zz', 'xx', 'yy', 'zz', 'xxxx', 'yyyy', 'zzzz']\n",
    "[[2], [3], [4], [3], [4], [5], [4], [5], [6]]\n",
    "[[2, 3, 4, 5], [3, 4, 5, 6], [4, 5, 6, 7], [5, 6, 7, 8]]\n",
    "[(1, 1), (2, 1), (3, 1), (1, 2), (2, 2), (3, 2), (1, 3), (2, 3), (3, 3)]"
   ]
  },
  {
   "cell_type": "code",
   "execution_count": 24,
   "metadata": {},
   "outputs": [
    {
     "name": "stdout",
     "output_type": "stream",
     "text": [
      "['A', 'C', 'A', 'D', 'G', 'I', 'L', 'D']\n",
      "['x', 'xx', 'xxx', 'xxxx', 'y', 'yy', 'yyy', 'yyyy', 'z', 'zz', 'zzz', 'zzzz']\n",
      "['x', 'y', 'x', 'xx', 'yy', 'xx', 'xxxx', 'yyyy', 'xxxx']\n",
      "[[2], [3], [4], [3], [4], [5], [4], [5], [6]]\n",
      "[[2, 3, 4, 5], [3, 4, 5, 6], [4, 5, 6, 7], [5, 6, 7, 8]]\n",
      "[(1, 1), (2, 1), (3, 1), (1, 2), (2, 2), (3, 2), (1, 3), (2, 3), (3, 3)]\n"
     ]
    }
   ],
   "source": [
    "first_list = [i for i in 'ACADGILD']\n",
    "print(first_list)\n",
    "\n",
    "second_list = [j*k for k in 'xyz' for j in range(1,5)]\n",
    "print(second_list)\n",
    "\n",
    "third_list = [l*m for l in range(1,5) for m in 'xyx' if l != 3]\n",
    "print(third_list)\n",
    "\n",
    "forth_list = [[n+p] for n in range(2,5) for p in range(0,3)]\n",
    "print(forth_list)\n",
    "\n",
    "fifth_list = [[q for q in range(r+1, r+5)] for r in range(1,5)]\n",
    "print(fifth_list)\n",
    "\n",
    "sixth_list = [(s,t) for t in range(1,4) for s in range(1,4)]\n",
    "print(sixth_list)"
   ]
  },
  {
   "cell_type": "markdown",
   "metadata": {},
   "source": [
    "3) Implement a function longestWord() that takes a list of words and returns the longest one."
   ]
  },
  {
   "cell_type": "markdown",
   "metadata": {},
   "source": [
    "Using normal define function"
   ]
  },
  {
   "cell_type": "code",
   "execution_count": 22,
   "metadata": {},
   "outputs": [
    {
     "name": "stdout",
     "output_type": "stream",
     "text": [
      "longest word = learning\n"
     ]
    }
   ],
   "source": [
    "def longestWord(a):\n",
    "    for i in range(len(a)):\n",
    "        if len(a[0]) < len(a[i]):\n",
    "            a[0] = a[i]\n",
    "    return a[0]\n",
    "\n",
    "names = ['I', 'am', 'learning', 'python']\n",
    "\n",
    "print('longest word = %s' %longestWord(names))\n",
    "    "
   ]
  },
  {
   "cell_type": "markdown",
   "metadata": {},
   "source": [
    "Using inbuild reduce function"
   ]
  },
  {
   "cell_type": "code",
   "execution_count": 56,
   "metadata": {},
   "outputs": [
    {
     "name": "stdout",
     "output_type": "stream",
     "text": [
      "learning\n"
     ]
    }
   ],
   "source": [
    "from functools import reduce\n",
    "long_word = lambda a, b : a if len(a) > len(b) else b \n",
    "print(reduce(long_word, names))"
   ]
  },
  {
   "cell_type": "markdown",
   "metadata": {},
   "source": [
    "# Task 2:"
   ]
  },
  {
   "cell_type": "markdown",
   "metadata": {},
   "source": [
    "1.1) Write a Python Program(with class concepts) to find the area of the triangle using the below formula.\n",
    "area = (s*(s-a)*(s-b)*(s-c)) ** 0.5\n",
    "Function to take the length of the sides of triangle from user should be defined in the parent class and function to calculate the area should be defined in subclass."
   ]
  },
  {
   "cell_type": "code",
   "execution_count": 1,
   "metadata": {},
   "outputs": [
    {
     "data": {
      "text/plain": [
       "6.0"
      ]
     },
     "execution_count": 1,
     "metadata": {},
     "output_type": "execute_result"
    }
   ],
   "source": [
    "class area:\n",
    "    \n",
    "    def __init__(self, a, b, c):\n",
    "        self.a = a\n",
    "        self.b = b\n",
    "        self.c = c\n",
    "        \n",
    "    def triangle(self):\n",
    "        s = (self.a + self.b + self.c) * 0.5\n",
    "        return ( s*(s-self.a)*(s-self.b)*(s-self.c) )**0.5\n",
    "    \n",
    "\n",
    "tri = area(3.0, 4.0, 5.0)\n",
    "tri.triangle()"
   ]
  },
  {
   "cell_type": "code",
   "execution_count": null,
   "metadata": {},
   "outputs": [],
   "source": []
  },
  {
   "cell_type": "markdown",
   "metadata": {},
   "source": [
    "\n",
    "1.2) Write a function filter_long_words() that takes a list of words and an integer n and returns the list of words that are longer than n."
   ]
  },
  {
   "cell_type": "code",
   "execution_count": 57,
   "metadata": {},
   "outputs": [
    {
     "name": "stdout",
     "output_type": "stream",
     "text": [
      "['mango', 'banana', 'orange', 'pineapple']\n"
     ]
    }
   ],
   "source": [
    "mixed = ['mango', 'banana', 6, 8, 'orange', 10, 20, 'pineapple']\n",
    "\n",
    "filterd_list = list(filter(lambda i : type(i) == str , mixed))\n",
    "print(filterd_list)"
   ]
  },
  {
   "cell_type": "markdown",
   "metadata": {},
   "source": [
    "2.1 Write a Python program using function concept that maps list of words into a list of integers representing the lengths of the corresponding words. Hint: If a list [ ab,cde,erty] is passed on to the python function output should come as [2,3,4] Here 2,3 and 4 are the lengths of the words in the list.\n"
   ]
  },
  {
   "cell_type": "code",
   "execution_count": 58,
   "metadata": {},
   "outputs": [
    {
     "name": "stdout",
     "output_type": "stream",
     "text": [
      "[2, 3, 4]\n"
     ]
    }
   ],
   "source": [
    "def givelenarray(str_array):\n",
    "    a_num = []\n",
    "    for i in str_array:\n",
    "        a_num.append(len(i))\n",
    "        #print(a_num)\n",
    "    return a_num\n",
    "\n",
    "ll = ['ab', 'cde', 'erty']\n",
    "print(givelenarray(ll))"
   ]
  },
  {
   "cell_type": "markdown",
   "metadata": {},
   "source": [
    "2.2) Write a Python function which takes a character (i.e. a string of length 1) and returns True if it is a vowel, False otherwise."
   ]
  },
  {
   "cell_type": "code",
   "execution_count": 3,
   "metadata": {},
   "outputs": [
    {
     "name": "stdout",
     "output_type": "stream",
     "text": [
      "False\n",
      "True\n"
     ]
    }
   ],
   "source": [
    "\n",
    "def find_vowel(character):\n",
    "    if character in 'aeiou':\n",
    "        return True\n",
    "    else:\n",
    "        return False\n",
    "    \n",
    "print(find_vowel('b'))\n",
    "print(find_vowel('i'))"
   ]
  }
 ],
 "metadata": {
  "kernelspec": {
   "display_name": "Python 3",
   "language": "python",
   "name": "python3"
  },
  "language_info": {
   "codemirror_mode": {
    "name": "ipython",
    "version": 3
   },
   "file_extension": ".py",
   "mimetype": "text/x-python",
   "name": "python",
   "nbconvert_exporter": "python",
   "pygments_lexer": "ipython3",
   "version": "3.7.6"
  }
 },
 "nbformat": 4,
 "nbformat_minor": 4
}
